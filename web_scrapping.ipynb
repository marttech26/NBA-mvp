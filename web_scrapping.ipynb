{
 "cells": [
  {
   "cell_type": "code",
   "execution_count": 1,
   "id": "e548ff7b",
   "metadata": {},
   "outputs": [
    {
     "name": "stderr",
     "output_type": "stream",
     "text": [
      "C:\\Users\\Rono\\anaconda3\\envs\\learn-env\\lib\\site-packages\\requests\\__init__.py:89: RequestsDependencyWarning: urllib3 (2.1.0) or chardet (3.0.4) doesn't match a supported version!\n",
      "  warnings.warn(\"urllib3 ({}) or chardet ({}) doesn't match a supported \"\n"
     ]
    }
   ],
   "source": [
    "import requests\n",
    "import os\n",
    "import shutil"
   ]
  },
  {
   "cell_type": "code",
   "execution_count": 2,
   "id": "0542daa4",
   "metadata": {},
   "outputs": [],
   "source": [
    "# years we want to scrape\n",
    "years = list(range(1991,2022))"
   ]
  },
  {
   "cell_type": "code",
   "execution_count": 3,
   "id": "3c890e4e",
   "metadata": {},
   "outputs": [],
   "source": [
    "# loop that saves html files to mvp folder\n",
    "url_start = \"https://www.basketball-reference.com/awards/awards_{}.html\"\n",
    "\n",
    "for year in years:\n",
    "    url = url_start.format(year)\n",
    "    \n",
    "    data = requests.get(url)\n",
    "    \n",
    "    with open(\"mvp/{}.html\".format(year), \"w+\", encoding= \"utf-8\") as f:\n",
    "        f.write(data.text)"
   ]
  },
  {
   "cell_type": "markdown",
   "id": "719dc9db",
   "metadata": {},
   "source": [
    "### Parsing mvp table with bsp "
   ]
  },
  {
   "cell_type": "code",
   "execution_count": 4,
   "id": "cbc9aef4",
   "metadata": {},
   "outputs": [],
   "source": [
    "from bs4 import BeautifulSoup"
   ]
  },
  {
   "cell_type": "code",
   "execution_count": 6,
   "id": "ada8e73d",
   "metadata": {},
   "outputs": [],
   "source": [
    "with open(\"mvp/1991.html\", encoding='utf-8') as f:\n",
    "    page = f.read()\n",
    "    \n",
    "soup = BeautifulSoup(page, 'html.parser')\n",
    "soup.find('tr', class_=\"over_header\").decompose()"
   ]
  },
  {
   "cell_type": "code",
   "execution_count": 7,
   "id": "b0151677",
   "metadata": {},
   "outputs": [],
   "source": [
    "mvp_table = soup.find_all(id=\"mvp\")[0]\n",
    "#mvp_table"
   ]
  },
  {
   "cell_type": "code",
   "execution_count": 8,
   "id": "a247e48e",
   "metadata": {},
   "outputs": [],
   "source": [
    "import pandas as pd"
   ]
  },
  {
   "cell_type": "markdown",
   "id": "fdf8484e",
   "metadata": {},
   "source": [
    "#### Read HTML into pandas "
   ]
  },
  {
   "cell_type": "code",
   "execution_count": 9,
   "id": "71dcd60a",
   "metadata": {},
   "outputs": [
    {
     "data": {
      "text/html": [
       "<div>\n",
       "<style scoped>\n",
       "    .dataframe tbody tr th:only-of-type {\n",
       "        vertical-align: middle;\n",
       "    }\n",
       "\n",
       "    .dataframe tbody tr th {\n",
       "        vertical-align: top;\n",
       "    }\n",
       "\n",
       "    .dataframe thead th {\n",
       "        text-align: right;\n",
       "    }\n",
       "</style>\n",
       "<table border=\"1\" class=\"dataframe\">\n",
       "  <thead>\n",
       "    <tr style=\"text-align: right;\">\n",
       "      <th></th>\n",
       "      <th>Rank</th>\n",
       "      <th>Player</th>\n",
       "      <th>Age</th>\n",
       "      <th>Tm</th>\n",
       "      <th>First</th>\n",
       "      <th>Pts Won</th>\n",
       "      <th>Pts Max</th>\n",
       "      <th>Share</th>\n",
       "      <th>G</th>\n",
       "      <th>MP</th>\n",
       "      <th>PTS</th>\n",
       "      <th>TRB</th>\n",
       "      <th>AST</th>\n",
       "      <th>STL</th>\n",
       "      <th>BLK</th>\n",
       "      <th>FG%</th>\n",
       "      <th>3P%</th>\n",
       "      <th>FT%</th>\n",
       "      <th>WS</th>\n",
       "      <th>WS/48</th>\n",
       "    </tr>\n",
       "  </thead>\n",
       "  <tbody>\n",
       "    <tr>\n",
       "      <th>0</th>\n",
       "      <td>1</td>\n",
       "      <td>Michael Jordan</td>\n",
       "      <td>27</td>\n",
       "      <td>CHI</td>\n",
       "      <td>77.0</td>\n",
       "      <td>891.0</td>\n",
       "      <td>960</td>\n",
       "      <td>0.928</td>\n",
       "      <td>82</td>\n",
       "      <td>37.0</td>\n",
       "      <td>31.5</td>\n",
       "      <td>6.0</td>\n",
       "      <td>5.5</td>\n",
       "      <td>2.7</td>\n",
       "      <td>1.0</td>\n",
       "      <td>0.539</td>\n",
       "      <td>0.312</td>\n",
       "      <td>0.851</td>\n",
       "      <td>20.3</td>\n",
       "      <td>0.321</td>\n",
       "    </tr>\n",
       "    <tr>\n",
       "      <th>1</th>\n",
       "      <td>2</td>\n",
       "      <td>Magic Johnson</td>\n",
       "      <td>31</td>\n",
       "      <td>LAL</td>\n",
       "      <td>10.0</td>\n",
       "      <td>497.0</td>\n",
       "      <td>960</td>\n",
       "      <td>0.518</td>\n",
       "      <td>79</td>\n",
       "      <td>37.1</td>\n",
       "      <td>19.4</td>\n",
       "      <td>7.0</td>\n",
       "      <td>12.5</td>\n",
       "      <td>1.3</td>\n",
       "      <td>0.2</td>\n",
       "      <td>0.477</td>\n",
       "      <td>0.320</td>\n",
       "      <td>0.906</td>\n",
       "      <td>15.4</td>\n",
       "      <td>0.251</td>\n",
       "    </tr>\n",
       "  </tbody>\n",
       "</table>\n",
       "</div>"
      ],
      "text/plain": [
       "  Rank          Player  Age   Tm  First  Pts Won  Pts Max  Share   G    MP  \\\n",
       "0    1  Michael Jordan   27  CHI   77.0    891.0      960  0.928  82  37.0   \n",
       "1    2   Magic Johnson   31  LAL   10.0    497.0      960  0.518  79  37.1   \n",
       "\n",
       "    PTS  TRB   AST  STL  BLK    FG%    3P%    FT%    WS  WS/48  \n",
       "0  31.5  6.0   5.5  2.7  1.0  0.539  0.312  0.851  20.3  0.321  \n",
       "1  19.4  7.0  12.5  1.3  0.2  0.477  0.320  0.906  15.4  0.251  "
      ]
     },
     "execution_count": 9,
     "metadata": {},
     "output_type": "execute_result"
    }
   ],
   "source": [
    "mvp_1991 = pd.read_html(str(mvp_table))[0]\n",
    "mvp_1991.head(2)"
   ]
  },
  {
   "cell_type": "code",
   "execution_count": 10,
   "id": "a11f8eff",
   "metadata": {},
   "outputs": [],
   "source": [
    "mvp_1991[\"Year\"] = 1991"
   ]
  },
  {
   "cell_type": "code",
   "execution_count": 11,
   "id": "60e18c92",
   "metadata": {},
   "outputs": [
    {
     "data": {
      "text/html": [
       "<div>\n",
       "<style scoped>\n",
       "    .dataframe tbody tr th:only-of-type {\n",
       "        vertical-align: middle;\n",
       "    }\n",
       "\n",
       "    .dataframe tbody tr th {\n",
       "        vertical-align: top;\n",
       "    }\n",
       "\n",
       "    .dataframe thead th {\n",
       "        text-align: right;\n",
       "    }\n",
       "</style>\n",
       "<table border=\"1\" class=\"dataframe\">\n",
       "  <thead>\n",
       "    <tr style=\"text-align: right;\">\n",
       "      <th></th>\n",
       "      <th>Rank</th>\n",
       "      <th>Player</th>\n",
       "      <th>Age</th>\n",
       "      <th>Tm</th>\n",
       "      <th>First</th>\n",
       "      <th>Pts Won</th>\n",
       "      <th>Pts Max</th>\n",
       "      <th>Share</th>\n",
       "      <th>G</th>\n",
       "      <th>MP</th>\n",
       "      <th>...</th>\n",
       "      <th>TRB</th>\n",
       "      <th>AST</th>\n",
       "      <th>STL</th>\n",
       "      <th>BLK</th>\n",
       "      <th>FG%</th>\n",
       "      <th>3P%</th>\n",
       "      <th>FT%</th>\n",
       "      <th>WS</th>\n",
       "      <th>WS/48</th>\n",
       "      <th>Year</th>\n",
       "    </tr>\n",
       "  </thead>\n",
       "  <tbody>\n",
       "    <tr>\n",
       "      <th>0</th>\n",
       "      <td>1</td>\n",
       "      <td>Michael Jordan</td>\n",
       "      <td>27</td>\n",
       "      <td>CHI</td>\n",
       "      <td>77.0</td>\n",
       "      <td>891.0</td>\n",
       "      <td>960</td>\n",
       "      <td>0.928</td>\n",
       "      <td>82</td>\n",
       "      <td>37.0</td>\n",
       "      <td>...</td>\n",
       "      <td>6.0</td>\n",
       "      <td>5.5</td>\n",
       "      <td>2.7</td>\n",
       "      <td>1.0</td>\n",
       "      <td>0.539</td>\n",
       "      <td>0.312</td>\n",
       "      <td>0.851</td>\n",
       "      <td>20.3</td>\n",
       "      <td>0.321</td>\n",
       "      <td>1991</td>\n",
       "    </tr>\n",
       "    <tr>\n",
       "      <th>1</th>\n",
       "      <td>2</td>\n",
       "      <td>Magic Johnson</td>\n",
       "      <td>31</td>\n",
       "      <td>LAL</td>\n",
       "      <td>10.0</td>\n",
       "      <td>497.0</td>\n",
       "      <td>960</td>\n",
       "      <td>0.518</td>\n",
       "      <td>79</td>\n",
       "      <td>37.1</td>\n",
       "      <td>...</td>\n",
       "      <td>7.0</td>\n",
       "      <td>12.5</td>\n",
       "      <td>1.3</td>\n",
       "      <td>0.2</td>\n",
       "      <td>0.477</td>\n",
       "      <td>0.320</td>\n",
       "      <td>0.906</td>\n",
       "      <td>15.4</td>\n",
       "      <td>0.251</td>\n",
       "      <td>1991</td>\n",
       "    </tr>\n",
       "    <tr>\n",
       "      <th>2</th>\n",
       "      <td>3</td>\n",
       "      <td>David Robinson</td>\n",
       "      <td>25</td>\n",
       "      <td>SAS</td>\n",
       "      <td>6.0</td>\n",
       "      <td>476.0</td>\n",
       "      <td>960</td>\n",
       "      <td>0.496</td>\n",
       "      <td>82</td>\n",
       "      <td>37.7</td>\n",
       "      <td>...</td>\n",
       "      <td>13.0</td>\n",
       "      <td>2.5</td>\n",
       "      <td>1.5</td>\n",
       "      <td>3.9</td>\n",
       "      <td>0.552</td>\n",
       "      <td>0.143</td>\n",
       "      <td>0.762</td>\n",
       "      <td>17.0</td>\n",
       "      <td>0.264</td>\n",
       "      <td>1991</td>\n",
       "    </tr>\n",
       "  </tbody>\n",
       "</table>\n",
       "<p>3 rows × 21 columns</p>\n",
       "</div>"
      ],
      "text/plain": [
       "  Rank          Player  Age   Tm  First  Pts Won  Pts Max  Share   G    MP  \\\n",
       "0    1  Michael Jordan   27  CHI   77.0    891.0      960  0.928  82  37.0   \n",
       "1    2   Magic Johnson   31  LAL   10.0    497.0      960  0.518  79  37.1   \n",
       "2    3  David Robinson   25  SAS    6.0    476.0      960  0.496  82  37.7   \n",
       "\n",
       "   ...   TRB   AST  STL  BLK    FG%    3P%    FT%    WS  WS/48  Year  \n",
       "0  ...   6.0   5.5  2.7  1.0  0.539  0.312  0.851  20.3  0.321  1991  \n",
       "1  ...   7.0  12.5  1.3  0.2  0.477  0.320  0.906  15.4  0.251  1991  \n",
       "2  ...  13.0   2.5  1.5  3.9  0.552  0.143  0.762  17.0  0.264  1991  \n",
       "\n",
       "[3 rows x 21 columns]"
      ]
     },
     "execution_count": 11,
     "metadata": {},
     "output_type": "execute_result"
    }
   ],
   "source": [
    "mvp_1991.head(3)"
   ]
  },
  {
   "cell_type": "code",
   "execution_count": 12,
   "id": "2bdb8235",
   "metadata": {},
   "outputs": [],
   "source": [
    "# loop to create multiple dfs for all years\n",
    "dfs = []\n",
    "for year in years:\n",
    "    with open(\"mvp/{}.html\".format(year), encoding='utf-8') as f:\n",
    "        page = f.read()\n",
    "    \n",
    "    soup = BeautifulSoup(page, 'html.parser')\n",
    "    soup.find('tr', class_=\"over_header\").decompose()\n",
    "    mvp_table = soup.find_all(id=\"mvp\")[0]\n",
    "    mvp_df = pd.read_html(str(mvp_table))[0]\n",
    "    mvp_df[\"Year\"] = year        # will help us know which year mvp is from\n",
    "    dfs.append(mvp_df)"
   ]
  },
  {
   "cell_type": "code",
   "execution_count": 13,
   "id": "23a2a65d",
   "metadata": {},
   "outputs": [
    {
     "data": {
      "text/html": [
       "<div>\n",
       "<style scoped>\n",
       "    .dataframe tbody tr th:only-of-type {\n",
       "        vertical-align: middle;\n",
       "    }\n",
       "\n",
       "    .dataframe tbody tr th {\n",
       "        vertical-align: top;\n",
       "    }\n",
       "\n",
       "    .dataframe thead th {\n",
       "        text-align: right;\n",
       "    }\n",
       "</style>\n",
       "<table border=\"1\" class=\"dataframe\">\n",
       "  <thead>\n",
       "    <tr style=\"text-align: right;\">\n",
       "      <th></th>\n",
       "      <th>Rank</th>\n",
       "      <th>Player</th>\n",
       "      <th>Age</th>\n",
       "      <th>Tm</th>\n",
       "      <th>First</th>\n",
       "      <th>Pts Won</th>\n",
       "      <th>Pts Max</th>\n",
       "      <th>Share</th>\n",
       "      <th>G</th>\n",
       "      <th>MP</th>\n",
       "      <th>...</th>\n",
       "      <th>TRB</th>\n",
       "      <th>AST</th>\n",
       "      <th>STL</th>\n",
       "      <th>BLK</th>\n",
       "      <th>FG%</th>\n",
       "      <th>3P%</th>\n",
       "      <th>FT%</th>\n",
       "      <th>WS</th>\n",
       "      <th>WS/48</th>\n",
       "      <th>Year</th>\n",
       "    </tr>\n",
       "  </thead>\n",
       "  <tbody>\n",
       "    <tr>\n",
       "      <th>10</th>\n",
       "      <td>11</td>\n",
       "      <td>Russell Westbrook</td>\n",
       "      <td>32</td>\n",
       "      <td>WAS</td>\n",
       "      <td>0.0</td>\n",
       "      <td>5.0</td>\n",
       "      <td>1010</td>\n",
       "      <td>0.005</td>\n",
       "      <td>65</td>\n",
       "      <td>36.4</td>\n",
       "      <td>...</td>\n",
       "      <td>11.5</td>\n",
       "      <td>11.7</td>\n",
       "      <td>1.4</td>\n",
       "      <td>0.4</td>\n",
       "      <td>0.439</td>\n",
       "      <td>0.315</td>\n",
       "      <td>0.656</td>\n",
       "      <td>3.7</td>\n",
       "      <td>0.075</td>\n",
       "      <td>2021</td>\n",
       "    </tr>\n",
       "    <tr>\n",
       "      <th>11</th>\n",
       "      <td>12</td>\n",
       "      <td>Ben Simmons</td>\n",
       "      <td>24</td>\n",
       "      <td>PHI</td>\n",
       "      <td>0.0</td>\n",
       "      <td>3.0</td>\n",
       "      <td>1010</td>\n",
       "      <td>0.003</td>\n",
       "      <td>58</td>\n",
       "      <td>32.4</td>\n",
       "      <td>...</td>\n",
       "      <td>7.2</td>\n",
       "      <td>6.9</td>\n",
       "      <td>1.6</td>\n",
       "      <td>0.6</td>\n",
       "      <td>0.557</td>\n",
       "      <td>0.300</td>\n",
       "      <td>0.613</td>\n",
       "      <td>6.0</td>\n",
       "      <td>0.153</td>\n",
       "      <td>2021</td>\n",
       "    </tr>\n",
       "    <tr>\n",
       "      <th>12</th>\n",
       "      <td>13T</td>\n",
       "      <td>James Harden</td>\n",
       "      <td>31</td>\n",
       "      <td>TOT</td>\n",
       "      <td>0.0</td>\n",
       "      <td>1.0</td>\n",
       "      <td>1010</td>\n",
       "      <td>0.001</td>\n",
       "      <td>44</td>\n",
       "      <td>36.6</td>\n",
       "      <td>...</td>\n",
       "      <td>7.9</td>\n",
       "      <td>10.8</td>\n",
       "      <td>1.2</td>\n",
       "      <td>0.8</td>\n",
       "      <td>0.466</td>\n",
       "      <td>0.362</td>\n",
       "      <td>0.861</td>\n",
       "      <td>7.0</td>\n",
       "      <td>0.208</td>\n",
       "      <td>2021</td>\n",
       "    </tr>\n",
       "    <tr>\n",
       "      <th>13</th>\n",
       "      <td>13T</td>\n",
       "      <td>LeBron James</td>\n",
       "      <td>36</td>\n",
       "      <td>LAL</td>\n",
       "      <td>0.0</td>\n",
       "      <td>1.0</td>\n",
       "      <td>1010</td>\n",
       "      <td>0.001</td>\n",
       "      <td>45</td>\n",
       "      <td>33.4</td>\n",
       "      <td>...</td>\n",
       "      <td>7.7</td>\n",
       "      <td>7.8</td>\n",
       "      <td>1.1</td>\n",
       "      <td>0.6</td>\n",
       "      <td>0.513</td>\n",
       "      <td>0.365</td>\n",
       "      <td>0.698</td>\n",
       "      <td>5.6</td>\n",
       "      <td>0.179</td>\n",
       "      <td>2021</td>\n",
       "    </tr>\n",
       "    <tr>\n",
       "      <th>14</th>\n",
       "      <td>13T</td>\n",
       "      <td>Kawhi Leonard</td>\n",
       "      <td>29</td>\n",
       "      <td>LAC</td>\n",
       "      <td>0.0</td>\n",
       "      <td>1.0</td>\n",
       "      <td>1010</td>\n",
       "      <td>0.001</td>\n",
       "      <td>52</td>\n",
       "      <td>34.1</td>\n",
       "      <td>...</td>\n",
       "      <td>6.5</td>\n",
       "      <td>5.2</td>\n",
       "      <td>1.6</td>\n",
       "      <td>0.4</td>\n",
       "      <td>0.512</td>\n",
       "      <td>0.398</td>\n",
       "      <td>0.885</td>\n",
       "      <td>8.8</td>\n",
       "      <td>0.238</td>\n",
       "      <td>2021</td>\n",
       "    </tr>\n",
       "  </tbody>\n",
       "</table>\n",
       "<p>5 rows × 21 columns</p>\n",
       "</div>"
      ],
      "text/plain": [
       "   Rank             Player  Age   Tm  First  Pts Won  Pts Max  Share   G  \\\n",
       "10   11  Russell Westbrook   32  WAS    0.0      5.0     1010  0.005  65   \n",
       "11   12        Ben Simmons   24  PHI    0.0      3.0     1010  0.003  58   \n",
       "12  13T       James Harden   31  TOT    0.0      1.0     1010  0.001  44   \n",
       "13  13T       LeBron James   36  LAL    0.0      1.0     1010  0.001  45   \n",
       "14  13T      Kawhi Leonard   29  LAC    0.0      1.0     1010  0.001  52   \n",
       "\n",
       "      MP  ...   TRB   AST  STL  BLK    FG%    3P%    FT%   WS  WS/48  Year  \n",
       "10  36.4  ...  11.5  11.7  1.4  0.4  0.439  0.315  0.656  3.7  0.075  2021  \n",
       "11  32.4  ...   7.2   6.9  1.6  0.6  0.557  0.300  0.613  6.0  0.153  2021  \n",
       "12  36.6  ...   7.9  10.8  1.2  0.8  0.466  0.362  0.861  7.0  0.208  2021  \n",
       "13  33.4  ...   7.7   7.8  1.1  0.6  0.513  0.365  0.698  5.6  0.179  2021  \n",
       "14  34.1  ...   6.5   5.2  1.6  0.4  0.512  0.398  0.885  8.8  0.238  2021  \n",
       "\n",
       "[5 rows x 21 columns]"
      ]
     },
     "execution_count": 13,
     "metadata": {},
     "output_type": "execute_result"
    }
   ],
   "source": [
    "# combine all these dfs into 1\n",
    "mvps = pd.concat(dfs)\n",
    "\n",
    "mvps.tail()"
   ]
  },
  {
   "cell_type": "code",
   "execution_count": 14,
   "id": "eb5b760b",
   "metadata": {},
   "outputs": [],
   "source": [
    "mvps.to_csv('mvps.csv')"
   ]
  },
  {
   "cell_type": "markdown",
   "id": "1d11dab1",
   "metadata": {},
   "source": [
    "# Now getting player stats"
   ]
  },
  {
   "cell_type": "code",
   "execution_count": 15,
   "id": "1fb701d9",
   "metadata": {},
   "outputs": [],
   "source": [
    "# rewriting above code to work for players url\n",
    "player_stats_url = \"https://www.basketball-reference.com/leagues/NBA_{}_per_game.html\"\n",
    "\n",
    "for year in years:\n",
    "    url = player_stats_url.format(year)\n",
    "    \n",
    "    data = requests.get(url)\n",
    "    \n",
    "    with open(\"player/{}.html\".format(year), \"w+\", encoding='utf-8') as f:\n",
    "        f.write(data.text)"
   ]
  },
  {
   "cell_type": "markdown",
   "id": "a0b1a0f0",
   "metadata": {},
   "source": [
    "But if you check in the player folder, the stored htmls have only 17 players, while the original site has over 600 player stats. This is because the site is in java and is causing rendering problems. It assumes my web renders the page in a browser but thats not the case."
   ]
  },
  {
   "cell_type": "markdown",
   "id": "ff8e0963",
   "metadata": {},
   "source": [
    "So trying to find a way to use my web to render java. "
   ]
  },
  {
   "cell_type": "markdown",
   "id": "ce167c40",
   "metadata": {},
   "source": [
    "# Selenium"
   ]
  },
  {
   "cell_type": "code",
   "execution_count": 16,
   "id": "10c93f59",
   "metadata": {},
   "outputs": [],
   "source": [
    "import os\n",
    "from selenium import webdriver\n",
    "from selenium.webdriver.common.keys import Keys\n",
    "import time"
   ]
  },
  {
   "cell_type": "code",
   "execution_count": 17,
   "id": "28a36a27",
   "metadata": {},
   "outputs": [
    {
     "ename": "TypeError",
     "evalue": "__init__() got an unexpected keyword argument 'executable_path'",
     "output_type": "error",
     "traceback": [
      "\u001b[1;31m---------------------------------------------------------------------------\u001b[0m",
      "\u001b[1;31mTypeError\u001b[0m                                 Traceback (most recent call last)",
      "\u001b[1;32m<ipython-input-17-f642bf605d36>\u001b[0m in \u001b[0;36m<module>\u001b[1;34m\u001b[0m\n\u001b[1;32m----> 1\u001b[1;33m driver = webdriver.Chrome(\n\u001b[0m\u001b[0;32m      2\u001b[0m     \u001b[0mexecutable_path\u001b[0m\u001b[1;33m=\u001b[0m\u001b[1;34m\"C:/Users/Rono/Downloads/chrome-win64\"\u001b[0m\u001b[1;33m\u001b[0m\u001b[1;33m\u001b[0m\u001b[0m\n\u001b[0;32m      3\u001b[0m     )\n",
      "\u001b[1;31mTypeError\u001b[0m: __init__() got an unexpected keyword argument 'executable_path'"
     ]
    }
   ],
   "source": [
    "driver = webdriver.Chrome(\n",
    "    executable_path=\"C:/Users/Rono/Downloads/chrome-win64\"\n",
    "    )\n"
   ]
  },
  {
   "cell_type": "code",
   "execution_count": 18,
   "id": "967e4da0",
   "metadata": {},
   "outputs": [
    {
     "ename": "AttributeError",
     "evalue": "'NoneType' object has no attribute 'decompose'",
     "output_type": "error",
     "traceback": [
      "\u001b[1;31m---------------------------------------------------------------------------\u001b[0m",
      "\u001b[1;31mAttributeError\u001b[0m                            Traceback (most recent call last)",
      "\u001b[1;32m<ipython-input-18-0c28a62fb082>\u001b[0m in \u001b[0;36m<module>\u001b[1;34m\u001b[0m\n\u001b[0;32m      5\u001b[0m \u001b[1;33m\u001b[0m\u001b[0m\n\u001b[0;32m      6\u001b[0m     \u001b[0msoup\u001b[0m \u001b[1;33m=\u001b[0m \u001b[0mBeautifulSoup\u001b[0m\u001b[1;33m(\u001b[0m\u001b[0mpage\u001b[0m\u001b[1;33m,\u001b[0m \u001b[1;34m'html.parser'\u001b[0m\u001b[1;33m)\u001b[0m\u001b[1;33m\u001b[0m\u001b[1;33m\u001b[0m\u001b[0m\n\u001b[1;32m----> 7\u001b[1;33m     \u001b[0msoup\u001b[0m\u001b[1;33m.\u001b[0m\u001b[0mfind\u001b[0m\u001b[1;33m(\u001b[0m\u001b[1;34m'tr'\u001b[0m\u001b[1;33m,\u001b[0m \u001b[0mclass_\u001b[0m\u001b[1;33m=\u001b[0m\u001b[1;34m\"thead\"\u001b[0m\u001b[1;33m)\u001b[0m\u001b[1;33m.\u001b[0m\u001b[0mdecompose\u001b[0m\u001b[1;33m(\u001b[0m\u001b[1;33m)\u001b[0m\u001b[1;33m\u001b[0m\u001b[1;33m\u001b[0m\u001b[0m\n\u001b[0m\u001b[0;32m      8\u001b[0m     \u001b[0mplayer_table\u001b[0m \u001b[1;33m=\u001b[0m \u001b[0msoup\u001b[0m\u001b[1;33m.\u001b[0m\u001b[0mfind_all\u001b[0m\u001b[1;33m(\u001b[0m\u001b[0mid\u001b[0m\u001b[1;33m=\u001b[0m\u001b[1;34m\"per_game_stats\"\u001b[0m\u001b[1;33m)\u001b[0m\u001b[1;33m[\u001b[0m\u001b[1;36m0\u001b[0m\u001b[1;33m]\u001b[0m\u001b[1;33m\u001b[0m\u001b[1;33m\u001b[0m\u001b[0m\n\u001b[0;32m      9\u001b[0m     \u001b[0mplayer_df\u001b[0m \u001b[1;33m=\u001b[0m \u001b[0mpd\u001b[0m\u001b[1;33m.\u001b[0m\u001b[0mread_html\u001b[0m\u001b[1;33m(\u001b[0m\u001b[0mstr\u001b[0m\u001b[1;33m(\u001b[0m\u001b[0mplayer_table\u001b[0m\u001b[1;33m)\u001b[0m\u001b[1;33m)\u001b[0m\u001b[1;33m[\u001b[0m\u001b[1;36m0\u001b[0m\u001b[1;33m]\u001b[0m\u001b[1;33m\u001b[0m\u001b[1;33m\u001b[0m\u001b[0m\n",
      "\u001b[1;31mAttributeError\u001b[0m: 'NoneType' object has no attribute 'decompose'"
     ]
    }
   ],
   "source": [
    "dfs = []\n",
    "for year in years:\n",
    "    with open(\"player/{}.html\".format(year), encoding='utf-8') as f:\n",
    "        page = f.read()\n",
    "    \n",
    "    soup = BeautifulSoup(page, 'html.parser')\n",
    "    soup.find('tr', class_=\"thead\").decompose()\n",
    "    player_table = soup.find_all(id=\"per_game_stats\")[0]\n",
    "    player_df = pd.read_html(str(player_table))[0]\n",
    "    player_df[\"Year\"] = year\n",
    "    dfs.append(player_df)"
   ]
  },
  {
   "cell_type": "code",
   "execution_count": null,
   "id": "2c0546e1",
   "metadata": {},
   "outputs": [],
   "source": [
    "players = pd.concat(dfs)"
   ]
  },
  {
   "cell_type": "code",
   "execution_count": null,
   "id": "b8320c47",
   "metadata": {},
   "outputs": [],
   "source": [
    "players"
   ]
  },
  {
   "cell_type": "code",
   "execution_count": null,
   "id": "c162a60a",
   "metadata": {},
   "outputs": [],
   "source": [
    "players.to_csv('players.csv')"
   ]
  },
  {
   "cell_type": "markdown",
   "id": "8c80fd96",
   "metadata": {},
   "source": [
    "# Division standings"
   ]
  },
  {
   "cell_type": "code",
   "execution_count": null,
   "id": "008ccd18",
   "metadata": {},
   "outputs": [],
   "source": [
    "team_stats_url = \"https://www.basketball-reference.com/leagues/NBA_{}_standings.html\""
   ]
  },
  {
   "cell_type": "code",
   "execution_count": null,
   "id": "c5a0c19e",
   "metadata": {},
   "outputs": [],
   "source": [
    "# demo of single year\n",
    "year = 1991\n",
    "url = team_stats_url.format(year)\n",
    "\n",
    "data = requests.get(url)\n",
    "\n",
    "with open(\"team/{}.html\".format(year), \"w+\", encoding='utf-8') as f:\n",
    "    f.write(data.text)"
   ]
  },
  {
   "cell_type": "code",
   "execution_count": null,
   "id": "a172ea5e",
   "metadata": {},
   "outputs": [],
   "source": [
    "# looping for all years\n",
    "for year in years:\n",
    "    url = team_stats_url.format(year)\n",
    "    \n",
    "    data = requests.get(url)\n",
    "    \n",
    "    with open(\"team/{}.html\".format(year), \"w+\", encoding='utf-8') as f:\n",
    "        f.write(data.text)"
   ]
  },
  {
   "cell_type": "code",
   "execution_count": null,
   "id": "09d41fda",
   "metadata": {},
   "outputs": [],
   "source": [
    "dfs = []\n",
    "for year in years:\n",
    "    with open(\"team/{}.html\".format(year), encoding='utf-8') as f:\n",
    "        page = f.read()\n",
    "    \n",
    "    soup = BeautifulSoup(page, 'html.parser')\n",
    "    #soup.find('tr', class_=\"thead\").decompose()\n",
    "    e_table = soup.find_all(id=\"divs_standings_E\")\n",
    "    e_df = pd.read_html(str(e_table))[0]\n",
    "    e_df[\"Year\"] = year\n",
    "    e_df[\"Team\"] = e_df[\"Eastern Conference\"]\n",
    "    del e_df[\"Eastern Conference\"]\n",
    "    dfs.append(e_df)\n",
    "    \n",
    "    w_table = soup.find_all(id=\"divs_standings_W\")\n",
    "    w_df = pd.read_html(str(w_table))[0]\n",
    "    w_df[\"Year\"] = year\n",
    "    w_df[\"Team\"] = w_df[\"Western Conference\"]\n",
    "    del w_df[\"Western Conference\"]\n",
    "    dfs.append(w_df)"
   ]
  },
  {
   "cell_type": "code",
   "execution_count": null,
   "id": "af2e56ed",
   "metadata": {},
   "outputs": [],
   "source": [
    "teams = pd.concat(dfs)"
   ]
  },
  {
   "cell_type": "code",
   "execution_count": null,
   "id": "e0e4ee7b",
   "metadata": {},
   "outputs": [],
   "source": [
    "teams.to_csv(\"teams.csv\")"
   ]
  },
  {
   "cell_type": "code",
   "execution_count": null,
   "id": "167ff526",
   "metadata": {},
   "outputs": [],
   "source": []
  }
 ],
 "metadata": {
  "kernelspec": {
   "display_name": "Python (learn-env)",
   "language": "python",
   "name": "learn-env"
  },
  "language_info": {
   "codemirror_mode": {
    "name": "ipython",
    "version": 3
   },
   "file_extension": ".py",
   "mimetype": "text/x-python",
   "name": "python",
   "nbconvert_exporter": "python",
   "pygments_lexer": "ipython3",
   "version": "3.8.5"
  }
 },
 "nbformat": 4,
 "nbformat_minor": 5
}
